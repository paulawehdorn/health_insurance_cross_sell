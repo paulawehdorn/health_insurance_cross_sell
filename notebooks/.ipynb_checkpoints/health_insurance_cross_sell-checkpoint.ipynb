{
 "cells": [
  {
   "cell_type": "markdown",
   "id": "d6ee0ad6",
   "metadata": {},
   "source": [
    "# 0.Imports"
   ]
  },
  {
   "cell_type": "markdown",
   "id": "f6c7e38f",
   "metadata": {},
   "source": [
    "## 0.1. Importing libraries"
   ]
  },
  {
   "cell_type": "code",
   "execution_count": 1,
   "id": "382f6955",
   "metadata": {
    "ExecuteTime": {
     "end_time": "2023-05-20T16:31:30.658143Z",
     "start_time": "2023-05-20T16:31:23.852539Z"
    }
   },
   "outputs": [],
   "source": [
    "import numpy  as np\n",
    "import pandas as pd\n",
    "import warnings\n",
    "import datetime\n",
    "import inflection\n",
    "import matplotlib.pyplot as plt\n",
    "import seaborn as sns"
   ]
  },
  {
   "cell_type": "markdown",
   "id": "19d637b1",
   "metadata": {},
   "source": [
    "## 0.2. Loading data"
   ]
  },
  {
   "cell_type": "code",
   "execution_count": 2,
   "id": "14350898",
   "metadata": {
    "ExecuteTime": {
     "end_time": "2023-05-20T16:31:33.556856Z",
     "start_time": "2023-05-20T16:31:32.418895Z"
    }
   },
   "outputs": [],
   "source": [
    "# Importar os datasets\n",
    "df_train_raw = pd.read_csv('../datasets/train.csv', low_memory=False)"
   ]
  },
  {
   "cell_type": "markdown",
   "id": "4bf2ba6f",
   "metadata": {},
   "source": [
    "## 0.3. Helper functions"
   ]
  },
  {
   "cell_type": "code",
   "execution_count": 3,
   "id": "f961037c",
   "metadata": {
    "ExecuteTime": {
     "end_time": "2023-05-20T16:31:36.162379Z",
     "start_time": "2023-05-20T16:31:36.144071Z"
    }
   },
   "outputs": [],
   "source": [
    "# Função para renomear as colunas do dataframe\n",
    "def rename_columns(cols):\n",
    "    title = lambda x: inflection.titleize(x)\n",
    "    snakecase = lambda x: inflection.underscore(x)\n",
    "    spaces = lambda x: x.replace( \" \", \"\" )\n",
    "    cols = list(map( title, cols ))\n",
    "    cols = list(map( spaces, cols )) \n",
    "    cols = list(map( snakecase, cols ))\n",
    "    return cols "
   ]
  },
  {
   "cell_type": "markdown",
   "id": "9916199d",
   "metadata": {},
   "source": [
    "# 1. PASSO 01 - DATA DESCRIPTION"
   ]
  },
  {
   "cell_type": "code",
   "execution_count": 4,
   "id": "f3b19c8a",
   "metadata": {
    "ExecuteTime": {
     "end_time": "2023-05-20T16:31:43.171298Z",
     "start_time": "2023-05-20T16:31:43.141299Z"
    }
   },
   "outputs": [],
   "source": [
    "df1 = df_train_raw.copy()"
   ]
  },
  {
   "cell_type": "markdown",
   "id": "2b21fb17",
   "metadata": {},
   "source": [
    "## 1.1. Rename Columns"
   ]
  },
  {
   "cell_type": "code",
   "execution_count": 5,
   "id": "a78716f8",
   "metadata": {
    "ExecuteTime": {
     "end_time": "2023-05-20T16:31:48.960266Z",
     "start_time": "2023-05-20T16:31:48.937257Z"
    }
   },
   "outputs": [],
   "source": [
    "df1.columns = rename_columns(df1.columns)"
   ]
  },
  {
   "cell_type": "markdown",
   "id": "2d70b310",
   "metadata": {},
   "source": [
    "## 1.2. Data Dimensions"
   ]
  },
  {
   "cell_type": "code",
   "execution_count": 6,
   "id": "7f908c7d",
   "metadata": {
    "ExecuteTime": {
     "end_time": "2023-05-20T16:31:53.417721Z",
     "start_time": "2023-05-20T16:31:53.398188Z"
    }
   },
   "outputs": [
    {
     "name": "stdout",
     "output_type": "stream",
     "text": [
      "Number of Rows: 381,109\n",
      "Number of Columns: 12\n"
     ]
    }
   ],
   "source": [
    "print('Number of Rows: {:,}'.format(df1.shape[0]))\n",
    "print('Number of Columns: {:,}'.format(df1.shape[1]))"
   ]
  },
  {
   "cell_type": "markdown",
   "id": "91b5d564",
   "metadata": {},
   "source": [
    "## 1.3. Data Types and description"
   ]
  },
  {
   "cell_type": "markdown",
   "id": "8ba0c9e2",
   "metadata": {},
   "source": [
    "ATRIBUTO | DESCRIÇÃO | CONTEÚDO\n",
    "-- | -- | --\n",
    "id | ID exclusivo para o cliente | único para cada cliente\n",
    "gender | Gênero do cliente | 'Male', 'Female' \n",
    "age | Idade do cliente | min: 20, max: 85\n",
    "driving_license | Se o cliente tem ou não tem licensa | 0, 1\n",
    "region_code | Código para a região do cliente | nunique  =  53\n",
    "previously_insured | Se o cliente já possui Seguro de Veículo | 0, 1\n",
    "vehicle_age | Idade do Veículo | > 2 Years, 1-2 Year, < 1 Year\n",
    "vehicle_damage | Se o cliente teve seu veículo danificado no passado | 0, 1\n",
    "annual_premium | O valor que o cliente pagou à empresa pelo seguro de saúde anual | min: 2,630.0, max: 540,165.0\n",
    "policy_sales_channel | Código anônimo para o canal de divulgação ao cliente, por exemplo: correio, telefone, pessoalmente, etc. | min: 1.0, max: 163.0\n",
    "vintage | Número de dias que o cliente se associou à empresa através da compra do seguro de saúde | min:10, max: 299\n",
    "response | Se o cliente está interessado em contratar | 0, 1"
   ]
  },
  {
   "cell_type": "code",
   "execution_count": 7,
   "id": "d5549a21",
   "metadata": {
    "ExecuteTime": {
     "end_time": "2023-05-20T16:31:58.950191Z",
     "start_time": "2023-05-20T16:31:58.912188Z"
    }
   },
   "outputs": [
    {
     "data": {
      "text/plain": [
       "id                        int64\n",
       "gender                   object\n",
       "age                       int64\n",
       "driving_license           int64\n",
       "region_code             float64\n",
       "previously_insured        int64\n",
       "vehicle_age              object\n",
       "vehicle_damage           object\n",
       "annual_premium          float64\n",
       "policy_sales_channel    float64\n",
       "vintage                   int64\n",
       "response                  int64\n",
       "dtype: object"
      ]
     },
     "execution_count": 7,
     "metadata": {},
     "output_type": "execute_result"
    }
   ],
   "source": [
    "df1.dtypes"
   ]
  },
  {
   "cell_type": "markdown",
   "id": "0cfc737a",
   "metadata": {},
   "source": [
    "## 1.4. Check NA's"
   ]
  },
  {
   "cell_type": "code",
   "execution_count": 8,
   "id": "a3c10e57",
   "metadata": {
    "ExecuteTime": {
     "end_time": "2023-05-20T16:32:01.921950Z",
     "start_time": "2023-05-20T16:32:01.460976Z"
    }
   },
   "outputs": [
    {
     "data": {
      "text/plain": [
       "id                      0\n",
       "gender                  0\n",
       "age                     0\n",
       "driving_license         0\n",
       "region_code             0\n",
       "previously_insured      0\n",
       "vehicle_age             0\n",
       "vehicle_damage          0\n",
       "annual_premium          0\n",
       "policy_sales_channel    0\n",
       "vintage                 0\n",
       "response                0\n",
       "dtype: int64"
      ]
     },
     "execution_count": 8,
     "metadata": {},
     "output_type": "execute_result"
    }
   ],
   "source": [
    "df1.isna().sum()"
   ]
  },
  {
   "cell_type": "markdown",
   "id": "ebe37bdf",
   "metadata": {},
   "source": [
    "## 1.5. Descriptive Statics"
   ]
  },
  {
   "cell_type": "code",
   "execution_count": 9,
   "id": "904a851e",
   "metadata": {
    "ExecuteTime": {
     "end_time": "2023-05-20T16:32:05.181335Z",
     "start_time": "2023-05-20T16:32:05.163333Z"
    }
   },
   "outputs": [],
   "source": [
    "num_attributes = df1.select_dtypes( include = ['int64', 'float64'])\n",
    "cat_attributes = df1.select_dtypes( include = ['object'])"
   ]
  },
  {
   "cell_type": "markdown",
   "id": "73db164b",
   "metadata": {},
   "source": [
    "### 1.5.1. Numerical Attributes"
   ]
  },
  {
   "cell_type": "code",
   "execution_count": 10,
   "id": "92ad1e20",
   "metadata": {
    "ExecuteTime": {
     "end_time": "2023-05-20T16:32:09.157483Z",
     "start_time": "2023-05-20T16:32:08.890300Z"
    }
   },
   "outputs": [
    {
     "data": {
      "text/html": [
       "<div>\n",
       "<style scoped>\n",
       "    .dataframe tbody tr th:only-of-type {\n",
       "        vertical-align: middle;\n",
       "    }\n",
       "\n",
       "    .dataframe tbody tr th {\n",
       "        vertical-align: top;\n",
       "    }\n",
       "\n",
       "    .dataframe thead th {\n",
       "        text-align: right;\n",
       "    }\n",
       "</style>\n",
       "<table border=\"1\" class=\"dataframe\">\n",
       "  <thead>\n",
       "    <tr style=\"text-align: right;\">\n",
       "      <th></th>\n",
       "      <th>id</th>\n",
       "      <th>age</th>\n",
       "      <th>driving_license</th>\n",
       "      <th>region_code</th>\n",
       "      <th>previously_insured</th>\n",
       "      <th>annual_premium</th>\n",
       "      <th>policy_sales_channel</th>\n",
       "      <th>vintage</th>\n",
       "      <th>response</th>\n",
       "    </tr>\n",
       "  </thead>\n",
       "  <tbody>\n",
       "    <tr>\n",
       "      <th>count</th>\n",
       "      <td>381109.00</td>\n",
       "      <td>381109.00</td>\n",
       "      <td>381109.00</td>\n",
       "      <td>381109.00</td>\n",
       "      <td>381109.00</td>\n",
       "      <td>381109.00</td>\n",
       "      <td>381109.00</td>\n",
       "      <td>381109.00</td>\n",
       "      <td>381109.00</td>\n",
       "    </tr>\n",
       "    <tr>\n",
       "      <th>mean</th>\n",
       "      <td>190555.00</td>\n",
       "      <td>38.82</td>\n",
       "      <td>1.00</td>\n",
       "      <td>26.39</td>\n",
       "      <td>0.46</td>\n",
       "      <td>30564.39</td>\n",
       "      <td>112.03</td>\n",
       "      <td>154.35</td>\n",
       "      <td>0.12</td>\n",
       "    </tr>\n",
       "    <tr>\n",
       "      <th>std</th>\n",
       "      <td>110016.84</td>\n",
       "      <td>15.51</td>\n",
       "      <td>0.05</td>\n",
       "      <td>13.23</td>\n",
       "      <td>0.50</td>\n",
       "      <td>17213.16</td>\n",
       "      <td>54.20</td>\n",
       "      <td>83.67</td>\n",
       "      <td>0.33</td>\n",
       "    </tr>\n",
       "    <tr>\n",
       "      <th>min</th>\n",
       "      <td>1.00</td>\n",
       "      <td>20.00</td>\n",
       "      <td>0.00</td>\n",
       "      <td>0.00</td>\n",
       "      <td>0.00</td>\n",
       "      <td>2630.00</td>\n",
       "      <td>1.00</td>\n",
       "      <td>10.00</td>\n",
       "      <td>0.00</td>\n",
       "    </tr>\n",
       "    <tr>\n",
       "      <th>25%</th>\n",
       "      <td>95278.00</td>\n",
       "      <td>25.00</td>\n",
       "      <td>1.00</td>\n",
       "      <td>15.00</td>\n",
       "      <td>0.00</td>\n",
       "      <td>24405.00</td>\n",
       "      <td>29.00</td>\n",
       "      <td>82.00</td>\n",
       "      <td>0.00</td>\n",
       "    </tr>\n",
       "    <tr>\n",
       "      <th>50%</th>\n",
       "      <td>190555.00</td>\n",
       "      <td>36.00</td>\n",
       "      <td>1.00</td>\n",
       "      <td>28.00</td>\n",
       "      <td>0.00</td>\n",
       "      <td>31669.00</td>\n",
       "      <td>133.00</td>\n",
       "      <td>154.00</td>\n",
       "      <td>0.00</td>\n",
       "    </tr>\n",
       "    <tr>\n",
       "      <th>75%</th>\n",
       "      <td>285832.00</td>\n",
       "      <td>49.00</td>\n",
       "      <td>1.00</td>\n",
       "      <td>35.00</td>\n",
       "      <td>1.00</td>\n",
       "      <td>39400.00</td>\n",
       "      <td>152.00</td>\n",
       "      <td>227.00</td>\n",
       "      <td>0.00</td>\n",
       "    </tr>\n",
       "    <tr>\n",
       "      <th>max</th>\n",
       "      <td>381109.00</td>\n",
       "      <td>85.00</td>\n",
       "      <td>1.00</td>\n",
       "      <td>52.00</td>\n",
       "      <td>1.00</td>\n",
       "      <td>540165.00</td>\n",
       "      <td>163.00</td>\n",
       "      <td>299.00</td>\n",
       "      <td>1.00</td>\n",
       "    </tr>\n",
       "  </tbody>\n",
       "</table>\n",
       "</div>"
      ],
      "text/plain": [
       "             id       age  driving_license  region_code  previously_insured  \\\n",
       "count 381109.00 381109.00        381109.00    381109.00           381109.00   \n",
       "mean  190555.00     38.82             1.00        26.39                0.46   \n",
       "std   110016.84     15.51             0.05        13.23                0.50   \n",
       "min        1.00     20.00             0.00         0.00                0.00   \n",
       "25%    95278.00     25.00             1.00        15.00                0.00   \n",
       "50%   190555.00     36.00             1.00        28.00                0.00   \n",
       "75%   285832.00     49.00             1.00        35.00                1.00   \n",
       "max   381109.00     85.00             1.00        52.00                1.00   \n",
       "\n",
       "       annual_premium  policy_sales_channel   vintage  response  \n",
       "count       381109.00             381109.00 381109.00 381109.00  \n",
       "mean         30564.39                112.03    154.35      0.12  \n",
       "std          17213.16                 54.20     83.67      0.33  \n",
       "min           2630.00                  1.00     10.00      0.00  \n",
       "25%          24405.00                 29.00     82.00      0.00  \n",
       "50%          31669.00                133.00    154.00      0.00  \n",
       "75%          39400.00                152.00    227.00      0.00  \n",
       "max         540165.00                163.00    299.00      1.00  "
      ]
     },
     "execution_count": 10,
     "metadata": {},
     "output_type": "execute_result"
    }
   ],
   "source": [
    "pd.options.display.float_format = '{:.2f}'.format\n",
    "num_attributes.describe()"
   ]
  },
  {
   "cell_type": "code",
   "execution_count": 11,
   "id": "c5d7bfed",
   "metadata": {
    "ExecuteTime": {
     "end_time": "2023-05-20T16:32:18.130606Z",
     "start_time": "2023-05-20T16:32:16.246503Z"
    }
   },
   "outputs": [
    {
     "data": {
      "text/html": [
       "<div>\n",
       "<style scoped>\n",
       "    .dataframe tbody tr th:only-of-type {\n",
       "        vertical-align: middle;\n",
       "    }\n",
       "\n",
       "    .dataframe tbody tr th {\n",
       "        vertical-align: top;\n",
       "    }\n",
       "\n",
       "    .dataframe thead th {\n",
       "        text-align: right;\n",
       "    }\n",
       "</style>\n",
       "<table border=\"1\" class=\"dataframe\">\n",
       "  <thead>\n",
       "    <tr style=\"text-align: right;\">\n",
       "      <th></th>\n",
       "      <th>attributes</th>\n",
       "      <th>min</th>\n",
       "      <th>max</th>\n",
       "      <th>range</th>\n",
       "      <th>mean</th>\n",
       "      <th>median</th>\n",
       "      <th>std</th>\n",
       "      <th>skewness</th>\n",
       "      <th>kurtosis</th>\n",
       "    </tr>\n",
       "  </thead>\n",
       "  <tbody>\n",
       "    <tr>\n",
       "      <th>0</th>\n",
       "      <td>id</td>\n",
       "      <td>1.00</td>\n",
       "      <td>381109.00</td>\n",
       "      <td>381108.00</td>\n",
       "      <td>190555.00</td>\n",
       "      <td>190555.00</td>\n",
       "      <td>110016.69</td>\n",
       "      <td>0.00</td>\n",
       "      <td>-1.20</td>\n",
       "    </tr>\n",
       "    <tr>\n",
       "      <th>1</th>\n",
       "      <td>age</td>\n",
       "      <td>20.00</td>\n",
       "      <td>85.00</td>\n",
       "      <td>65.00</td>\n",
       "      <td>38.82</td>\n",
       "      <td>36.00</td>\n",
       "      <td>15.51</td>\n",
       "      <td>0.67</td>\n",
       "      <td>-0.57</td>\n",
       "    </tr>\n",
       "    <tr>\n",
       "      <th>2</th>\n",
       "      <td>driving_license</td>\n",
       "      <td>0.00</td>\n",
       "      <td>1.00</td>\n",
       "      <td>1.00</td>\n",
       "      <td>1.00</td>\n",
       "      <td>1.00</td>\n",
       "      <td>0.05</td>\n",
       "      <td>-21.60</td>\n",
       "      <td>464.35</td>\n",
       "    </tr>\n",
       "    <tr>\n",
       "      <th>3</th>\n",
       "      <td>region_code</td>\n",
       "      <td>0.00</td>\n",
       "      <td>52.00</td>\n",
       "      <td>52.00</td>\n",
       "      <td>26.39</td>\n",
       "      <td>28.00</td>\n",
       "      <td>13.23</td>\n",
       "      <td>-0.12</td>\n",
       "      <td>-0.87</td>\n",
       "    </tr>\n",
       "    <tr>\n",
       "      <th>4</th>\n",
       "      <td>previously_insured</td>\n",
       "      <td>0.00</td>\n",
       "      <td>1.00</td>\n",
       "      <td>1.00</td>\n",
       "      <td>0.46</td>\n",
       "      <td>0.00</td>\n",
       "      <td>0.50</td>\n",
       "      <td>0.17</td>\n",
       "      <td>-1.97</td>\n",
       "    </tr>\n",
       "    <tr>\n",
       "      <th>5</th>\n",
       "      <td>annual_premium</td>\n",
       "      <td>2630.00</td>\n",
       "      <td>540165.00</td>\n",
       "      <td>537535.00</td>\n",
       "      <td>30564.39</td>\n",
       "      <td>31669.00</td>\n",
       "      <td>17213.13</td>\n",
       "      <td>1.77</td>\n",
       "      <td>34.00</td>\n",
       "    </tr>\n",
       "    <tr>\n",
       "      <th>6</th>\n",
       "      <td>policy_sales_channel</td>\n",
       "      <td>1.00</td>\n",
       "      <td>163.00</td>\n",
       "      <td>162.00</td>\n",
       "      <td>112.03</td>\n",
       "      <td>133.00</td>\n",
       "      <td>54.20</td>\n",
       "      <td>-0.90</td>\n",
       "      <td>-0.97</td>\n",
       "    </tr>\n",
       "    <tr>\n",
       "      <th>7</th>\n",
       "      <td>vintage</td>\n",
       "      <td>10.00</td>\n",
       "      <td>299.00</td>\n",
       "      <td>289.00</td>\n",
       "      <td>154.35</td>\n",
       "      <td>154.00</td>\n",
       "      <td>83.67</td>\n",
       "      <td>0.00</td>\n",
       "      <td>-1.20</td>\n",
       "    </tr>\n",
       "    <tr>\n",
       "      <th>8</th>\n",
       "      <td>response</td>\n",
       "      <td>0.00</td>\n",
       "      <td>1.00</td>\n",
       "      <td>1.00</td>\n",
       "      <td>0.12</td>\n",
       "      <td>0.00</td>\n",
       "      <td>0.33</td>\n",
       "      <td>2.30</td>\n",
       "      <td>3.30</td>\n",
       "    </tr>\n",
       "  </tbody>\n",
       "</table>\n",
       "</div>"
      ],
      "text/plain": [
       "             attributes     min       max     range      mean    median  \\\n",
       "0                    id    1.00 381109.00 381108.00 190555.00 190555.00   \n",
       "1                   age   20.00     85.00     65.00     38.82     36.00   \n",
       "2       driving_license    0.00      1.00      1.00      1.00      1.00   \n",
       "3           region_code    0.00     52.00     52.00     26.39     28.00   \n",
       "4    previously_insured    0.00      1.00      1.00      0.46      0.00   \n",
       "5        annual_premium 2630.00 540165.00 537535.00  30564.39  31669.00   \n",
       "6  policy_sales_channel    1.00    163.00    162.00    112.03    133.00   \n",
       "7               vintage   10.00    299.00    289.00    154.35    154.00   \n",
       "8              response    0.00      1.00      1.00      0.12      0.00   \n",
       "\n",
       "        std  skewness  kurtosis  \n",
       "0 110016.69      0.00     -1.20  \n",
       "1     15.51      0.67     -0.57  \n",
       "2      0.05    -21.60    464.35  \n",
       "3     13.23     -0.12     -0.87  \n",
       "4      0.50      0.17     -1.97  \n",
       "5  17213.13      1.77     34.00  \n",
       "6     54.20     -0.90     -0.97  \n",
       "7     83.67      0.00     -1.20  \n",
       "8      0.33      2.30      3.30  "
      ]
     },
     "execution_count": 11,
     "metadata": {},
     "output_type": "execute_result"
    }
   ],
   "source": [
    "# Central tendency - mean, median\n",
    "ct1 = pd.DataFrame( num_attributes.apply( np.mean )).T\n",
    "ct2 = pd.DataFrame( num_attributes.apply( np.median )).T\n",
    "\n",
    "# dispersion - std, min, max, range, skewness, kurtosis\n",
    "d1 = pd.DataFrame( num_attributes.apply(np.std)).T\n",
    "d2 = pd.DataFrame( num_attributes.apply(min)).T\n",
    "d3 = pd.DataFrame( num_attributes.apply(max)).T\n",
    "d4 = pd.DataFrame( num_attributes.apply(lambda x: x.max() - x.min())).T\n",
    "d5 = pd.DataFrame( num_attributes.apply(lambda x: x.skew())).T\n",
    "d6 = pd.DataFrame( num_attributes.apply(lambda x: x.kurtosis())).T\n",
    "\n",
    "#concat\n",
    "m = pd.concat( [d2, d3, d4, ct1, ct2, d1, d5, d6] ).T.reset_index()\n",
    "m.columns = ['attributes', 'min', 'max', 'range', 'mean', 'median', 'std', 'skewness', 'kurtosis'] \n",
    "m"
   ]
  },
  {
   "cell_type": "markdown",
   "id": "00bfc07a",
   "metadata": {},
   "source": [
    "### 1.5.2. Categorical Attributes"
   ]
  },
  {
   "cell_type": "code",
   "execution_count": 12,
   "id": "8eb1dca2",
   "metadata": {
    "ExecuteTime": {
     "end_time": "2023-05-20T16:34:26.791807Z",
     "start_time": "2023-05-20T16:33:22.637009Z"
    }
   },
   "outputs": [
    {
     "data": {
      "image/png": "[encoded data removed]",
      "text/plain": [
       "<Figure size 1152x864 with 3 Axes>"
      ]
     },
     "metadata": {
      "needs_background": "light"
     },
     "output_type": "display_data"
    }
   ],
   "source": [
    "plt.figure(figsize=(16,12))\n",
    "plt.subplot( 2, 3, 1 )\n",
    "sns.barplot( x='gender', y='response', data=df1 )\n",
    "# sns.despine(offset = 10, trim = True)\n",
    "plt.title('Interessados no seguro por gênero')\n",
    "\n",
    "plt.subplot( 2, 3, 2 )\n",
    "sns.barplot( x='vehicle_age', y='response', data=df1 )\n",
    "sns.despine(offset = 10, trim = True)\n",
    "plt.title('Interessados no seguro pela idade do veículo')\n",
    "\n",
    "plt.subplot( 2, 3, 3 )\n",
    "sns.barplot( x='vehicle_damage', y='response', data=df1 )\n",
    "sns.despine(offset = 10, trim = True)\n",
    "plt.title('Interessados no seguro c/ veíc. danificado ant.');"
   ]
  },
  {
   "cell_type": "markdown",
   "id": "43d5b836",
   "metadata": {},
   "source": [
    "# 2. PASSO 02 - FEATURE ENGINEERING"
   ]
  },
  {
   "cell_type": "code",
   "execution_count": 13,
   "id": "d9e7eac0",
   "metadata": {
    "ExecuteTime": {
     "end_time": "2023-05-20T16:34:31.566278Z",
     "start_time": "2023-05-20T16:34:31.516383Z"
    }
   },
   "outputs": [],
   "source": [
    "df2 = df1.copy()"
   ]
  },
  {
   "cell_type": "code",
   "execution_count": 14,
   "id": "6c1c3de7",
   "metadata": {
    "ExecuteTime": {
     "end_time": "2023-05-20T16:34:36.615336Z",
     "start_time": "2023-05-20T16:34:36.430224Z"
    }
   },
   "outputs": [],
   "source": [
    "# Converte o conteúdo de 'vehicle_age'\n",
    "vehicle_age_rename = {'> 2 Years': 'over_2years', '1-2 Year': 'between_1_2years', '< 1 Year': 'below_1_year'}\n",
    "df2['vehicle_age'] = df2['vehicle_age'].map(vehicle_age_rename)\n",
    "\n",
    "# Converte o conteúdo de 'vehicle_damage' em números\n",
    "vehicle_damage_rename = {'No': 0, 'Yes': 1}\n",
    "df2['vehicle_damage'] = df2['vehicle_damage'].map(vehicle_damage_rename)"
   ]
  },
  {
   "cell_type": "markdown",
   "id": "36a12118",
   "metadata": {},
   "source": [
    "# 3. PASSO 03 - EXPLORATORY DATA ANALYSIS (EDA)"
   ]
  },
  {
   "cell_type": "code",
   "execution_count": 15,
   "id": "a1475951",
   "metadata": {
    "ExecuteTime": {
     "end_time": "2023-05-20T16:34:40.966730Z",
     "start_time": "2023-05-20T16:34:40.889657Z"
    }
   },
   "outputs": [],
   "source": [
    "df3 = df2.copy()"
   ]
  },
  {
   "cell_type": "markdown",
   "id": "32b04f2d",
   "metadata": {},
   "source": [
    "## 3.1. Análise Univariada"
   ]
  },
  {
   "cell_type": "markdown",
   "id": "9b41dec2",
   "metadata": {},
   "source": [
    "### 3.1.1 Age"
   ]
  },
  {
   "cell_type": "markdown",
   "id": "448d259b",
   "metadata": {},
   "source": [
    "## 3.2. Análise Bivariada"
   ]
  },
  {
   "cell_type": "markdown",
   "id": "6d62aa8c",
   "metadata": {},
   "source": [
    "## 3.3. Análise Multivariada"
   ]
  }
 ],
 "metadata": {
  "kernelspec": {
   "display_name": "Python 3 (ipykernel)",
   "language": "python",
   "name": "python3"
  },
  "language_info": {
   "codemirror_mode": {
    "name": "ipython",
    "version": 3
   },
   "file_extension": ".py",
   "mimetype": "text/x-python",
   "name": "python",
   "nbconvert_exporter": "python",
   "pygments_lexer": "ipython3",
   "version": "3.9.12"
  }
 },
 "nbformat": 4,
 "nbformat_minor": 5
}
