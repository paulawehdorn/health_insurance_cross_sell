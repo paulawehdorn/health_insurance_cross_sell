{
 "cells": [
  {
   "cell_type": "markdown",
   "id": "80593154",
   "metadata": {},
   "source": [
    "# 0.Imports"
   ]
  },
  {
   "cell_type": "markdown",
   "id": "e3bbc196",
   "metadata": {},
   "source": [
    "## 0.1. Importing libraries"
   ]
  },
  {
   "cell_type": "code",
   "execution_count": 32,
   "id": "4687926c",
   "metadata": {
    "ExecuteTime": {
     "end_time": "2023-05-24T21:43:42.302415Z",
     "start_time": "2023-05-24T21:43:42.282406Z"
    }
   },
   "outputs": [],
   "source": [
    "import numpy  as np\n",
    "import pandas as pd\n",
    "import warnings\n",
    "import datetime\n",
    "import inflection\n",
    "import matplotlib.pyplot as plt\n",
    "import seaborn as sns\n",
    "\n",
    "from IPython.core.display  import HTML\n",
    "from sklearn               import preprocessing as pp\n",
    "from sklearn.preprocessing import RobustScaler, MinMaxScaler, LabelEncoder\n",
    "\n",
    "warnings.filterwarnings('ignore')"
   ]
  },
  {
   "cell_type": "markdown",
   "id": "f4b34988",
   "metadata": {},
   "source": [
    "## 0.2. Loading data"
   ]
  },
  {
   "cell_type": "code",
   "execution_count": 2,
   "id": "30cdb9f9",
   "metadata": {
    "ExecuteTime": {
     "end_time": "2023-05-24T21:23:02.379038Z",
     "start_time": "2023-05-24T21:23:01.228341Z"
    }
   },
   "outputs": [],
   "source": [
    "# Importar os datasets\n",
    "# https://www.kaggle.com/datasets/anmolkumar/health-insurance-cross-sell-prediction?select=train.csv\n",
    "df_train_raw = pd.read_csv('../datasets/train.csv', low_memory=False)"
   ]
  },
  {
   "cell_type": "markdown",
   "id": "1b0faff9",
   "metadata": {},
   "source": [
    "## 0.3. Helper functions"
   ]
  },
  {
   "cell_type": "code",
   "execution_count": 3,
   "id": "d70f04a7",
   "metadata": {
    "ExecuteTime": {
     "end_time": "2023-05-24T21:23:02.426559Z",
     "start_time": "2023-05-24T21:23:02.383045Z"
    }
   },
   "outputs": [],
   "source": [
    "# Função para renomear as colunas do dataframe\n",
    "def rename_columns(cols):\n",
    "    title = lambda x: inflection.titleize(x)\n",
    "    snakecase = lambda x: inflection.underscore(x)\n",
    "    spaces = lambda x: x.replace( \" \", \"\" )\n",
    "    cols = list(map( title, cols ))\n",
    "    cols = list(map( spaces, cols )) \n",
    "    cols = list(map( snakecase, cols ))\n",
    "    return cols \n",
    "\n",
    "# Função que encoda variáveis categóricas\n",
    "def dummies(df_aux, variable):\n",
    "  df_aux = pd.get_dummies(df_aux, prefix=variable, columns=[variable])\n",
    "  return df_aux\n",
    "\n",
    "def jupyter_settings():\n",
    "    %matplotlib inline\n",
    "    \n",
    "    plt.style.use( 'bmh' )\n",
    "    plt.rcParams['figure.figsize'] = [25, 12]\n",
    "    plt.rcParams['font.size'] = 24\n",
    "    \n",
    "    display( HTML( '<style>.container { width:100% !important; }</style>') )\n",
    "    pd.options.display.max_columns = None\n",
    "    pd.options.display.max_rows = None\n",
    "    pd.set_option( 'display.expand_frame_repr', False )\n",
    "    \n",
    "    sns.set()"
   ]
  },
  {
   "cell_type": "code",
   "execution_count": 4,
   "id": "c56b72cc",
   "metadata": {
    "ExecuteTime": {
     "end_time": "2023-05-24T21:23:02.522084Z",
     "start_time": "2023-05-24T21:23:02.433566Z"
    }
   },
   "outputs": [
    {
     "data": {
      "text/html": [
       "<style>.container { width:100% !important; }</style>"
      ],
      "text/plain": [
       "<IPython.core.display.HTML object>"
      ]
     },
     "metadata": {},
     "output_type": "display_data"
    }
   ],
   "source": [
    "jupyter_settings()"
   ]
  },
  {
   "cell_type": "markdown",
   "id": "4fee3f0c",
   "metadata": {},
   "source": [
    "# 1. DATA DESCRIPTION"
   ]
  },
  {
   "cell_type": "code",
   "execution_count": 5,
   "id": "9986479f",
   "metadata": {
    "ExecuteTime": {
     "end_time": "2023-05-24T21:23:02.570087Z",
     "start_time": "2023-05-24T21:23:02.526086Z"
    }
   },
   "outputs": [],
   "source": [
    "df1 = df_train_raw.copy()"
   ]
  },
  {
   "cell_type": "markdown",
   "id": "56256a68",
   "metadata": {},
   "source": [
    "## 1.1. Rename Columns"
   ]
  },
  {
   "cell_type": "code",
   "execution_count": 6,
   "id": "51eea8fc",
   "metadata": {
    "ExecuteTime": {
     "end_time": "2023-05-24T21:23:02.601110Z",
     "start_time": "2023-05-24T21:23:02.574089Z"
    }
   },
   "outputs": [],
   "source": [
    "df1.columns = rename_columns(df1.columns)"
   ]
  },
  {
   "cell_type": "markdown",
   "id": "4fc176f8",
   "metadata": {},
   "source": [
    "## 1.2. Data Dimensions"
   ]
  },
  {
   "cell_type": "code",
   "execution_count": 7,
   "id": "2e4c5040",
   "metadata": {
    "ExecuteTime": {
     "end_time": "2023-05-24T21:23:02.617114Z",
     "start_time": "2023-05-24T21:23:02.605114Z"
    }
   },
   "outputs": [
    {
     "name": "stdout",
     "output_type": "stream",
     "text": [
      "Number of Rows: 381,109\n",
      "Number of Columns: 12\n"
     ]
    }
   ],
   "source": [
    "print('Number of Rows: {:,}'.format(df1.shape[0]))\n",
    "print('Number of Columns: {:,}'.format(df1.shape[1]))"
   ]
  },
  {
   "cell_type": "markdown",
   "id": "7b27e171",
   "metadata": {},
   "source": [
    "## 1.3. Data Types and description"
   ]
  },
  {
   "cell_type": "markdown",
   "id": "f88569a8",
   "metadata": {},
   "source": [
    "ATRIBUTO | DESCRIÇÃO | CONTEÚDO\n",
    "-- | -- | --\n",
    "id | ID exclusivo para o cliente | único para cada cliente\n",
    "gender | Gênero do cliente | 'Male', 'Female' \n",
    "age | Idade do cliente | min: 20, max: 85\n",
    "driving_license | Se o cliente tem ou não tem licensa | 0, 1\n",
    "region_code | Código para a região do cliente | nunique  =  53\n",
    "previously_insured | Se o cliente já possui Seguro de Veículo | 0, 1\n",
    "vehicle_age | Idade do Veículo | > 2 Years, 1-2 Year, < 1 Year\n",
    "vehicle_damage | Se o cliente teve seu veículo danificado no passado | 0, 1\n",
    "annual_premium | O valor que o cliente pagou à empresa pelo seguro de saúde anual | min: 2,630.0, max: 540,165.0\n",
    "policy_sales_channel | Código anônimo para o canal de divulgação ao cliente, por exemplo: correio, telefone, pessoalmente, etc. | min: 1.0, max: 163.0\n",
    "vintage | Número de dias que o cliente se associou à empresa através da compra do seguro de saúde | min:10, max: 299\n",
    "response | Se o cliente está interessado em contratar | 0, 1"
   ]
  },
  {
   "cell_type": "code",
   "execution_count": 8,
   "id": "9a7288ce",
   "metadata": {
    "ExecuteTime": {
     "end_time": "2023-05-24T21:23:02.649113Z",
     "start_time": "2023-05-24T21:23:02.621114Z"
    }
   },
   "outputs": [
    {
     "data": {
      "text/plain": [
       "id                        int64\n",
       "gender                   object\n",
       "age                       int64\n",
       "driving_license           int64\n",
       "region_code             float64\n",
       "previously_insured        int64\n",
       "vehicle_age              object\n",
       "vehicle_damage           object\n",
       "annual_premium          float64\n",
       "policy_sales_channel    float64\n",
       "vintage                   int64\n",
       "response                  int64\n",
       "dtype: object"
      ]
     },
     "execution_count": 8,
     "metadata": {},
     "output_type": "execute_result"
    }
   ],
   "source": [
    "df1.dtypes"
   ]
  },
  {
   "cell_type": "markdown",
   "id": "c0a7ced0",
   "metadata": {},
   "source": [
    "## 1.4. Check NA's"
   ]
  },
  {
   "cell_type": "code",
   "execution_count": 9,
   "id": "817cff4b",
   "metadata": {
    "ExecuteTime": {
     "end_time": "2023-05-24T21:23:03.125972Z",
     "start_time": "2023-05-24T21:23:02.653115Z"
    }
   },
   "outputs": [
    {
     "data": {
      "text/plain": [
       "id                      0\n",
       "gender                  0\n",
       "age                     0\n",
       "driving_license         0\n",
       "region_code             0\n",
       "previously_insured      0\n",
       "vehicle_age             0\n",
       "vehicle_damage          0\n",
       "annual_premium          0\n",
       "policy_sales_channel    0\n",
       "vintage                 0\n",
       "response                0\n",
       "dtype: int64"
      ]
     },
     "execution_count": 9,
     "metadata": {},
     "output_type": "execute_result"
    }
   ],
   "source": [
    "df1.isna().sum()"
   ]
  },
  {
   "cell_type": "markdown",
   "id": "ef532eaf",
   "metadata": {},
   "source": [
    "## 1.5. Descriptive Statics"
   ]
  },
  {
   "cell_type": "code",
   "execution_count": 10,
   "id": "76dfd57b",
   "metadata": {
    "ExecuteTime": {
     "end_time": "2023-05-24T21:23:03.156974Z",
     "start_time": "2023-05-24T21:23:03.134975Z"
    }
   },
   "outputs": [],
   "source": [
    "num_attributes = df1.select_dtypes( include = ['int64', 'float64'])\n",
    "cat_attributes = df1.select_dtypes( include = ['object'])"
   ]
  },
  {
   "cell_type": "markdown",
   "id": "ab4263c2",
   "metadata": {},
   "source": [
    "### 1.5.1. Numerical Attributes"
   ]
  },
  {
   "cell_type": "code",
   "execution_count": 11,
   "id": "bc1fba95",
   "metadata": {
    "ExecuteTime": {
     "end_time": "2023-05-24T21:23:03.425345Z",
     "start_time": "2023-05-24T21:23:03.160976Z"
    }
   },
   "outputs": [
    {
     "data": {
      "text/html": [
       "<div>\n",
       "<style scoped>\n",
       "    .dataframe tbody tr th:only-of-type {\n",
       "        vertical-align: middle;\n",
       "    }\n",
       "\n",
       "    .dataframe tbody tr th {\n",
       "        vertical-align: top;\n",
       "    }\n",
       "\n",
       "    .dataframe thead th {\n",
       "        text-align: right;\n",
       "    }\n",
       "</style>\n",
       "<table border=\"1\" class=\"dataframe\">\n",
       "  <thead>\n",
       "    <tr style=\"text-align: right;\">\n",
       "      <th></th>\n",
       "      <th>id</th>\n",
       "      <th>age</th>\n",
       "      <th>driving_license</th>\n",
       "      <th>region_code</th>\n",
       "      <th>previously_insured</th>\n",
       "      <th>annual_premium</th>\n",
       "      <th>policy_sales_channel</th>\n",
       "      <th>vintage</th>\n",
       "      <th>response</th>\n",
       "    </tr>\n",
       "  </thead>\n",
       "  <tbody>\n",
       "    <tr>\n",
       "      <th>count</th>\n",
       "      <td>381109.00</td>\n",
       "      <td>381109.00</td>\n",
       "      <td>381109.00</td>\n",
       "      <td>381109.00</td>\n",
       "      <td>381109.00</td>\n",
       "      <td>381109.00</td>\n",
       "      <td>381109.00</td>\n",
       "      <td>381109.00</td>\n",
       "      <td>381109.00</td>\n",
       "    </tr>\n",
       "    <tr>\n",
       "      <th>mean</th>\n",
       "      <td>190555.00</td>\n",
       "      <td>38.82</td>\n",
       "      <td>1.00</td>\n",
       "      <td>26.39</td>\n",
       "      <td>0.46</td>\n",
       "      <td>30564.39</td>\n",
       "      <td>112.03</td>\n",
       "      <td>154.35</td>\n",
       "      <td>0.12</td>\n",
       "    </tr>\n",
       "    <tr>\n",
       "      <th>std</th>\n",
       "      <td>110016.84</td>\n",
       "      <td>15.51</td>\n",
       "      <td>0.05</td>\n",
       "      <td>13.23</td>\n",
       "      <td>0.50</td>\n",
       "      <td>17213.16</td>\n",
       "      <td>54.20</td>\n",
       "      <td>83.67</td>\n",
       "      <td>0.33</td>\n",
       "    </tr>\n",
       "    <tr>\n",
       "      <th>min</th>\n",
       "      <td>1.00</td>\n",
       "      <td>20.00</td>\n",
       "      <td>0.00</td>\n",
       "      <td>0.00</td>\n",
       "      <td>0.00</td>\n",
       "      <td>2630.00</td>\n",
       "      <td>1.00</td>\n",
       "      <td>10.00</td>\n",
       "      <td>0.00</td>\n",
       "    </tr>\n",
       "    <tr>\n",
       "      <th>25%</th>\n",
       "      <td>95278.00</td>\n",
       "      <td>25.00</td>\n",
       "      <td>1.00</td>\n",
       "      <td>15.00</td>\n",
       "      <td>0.00</td>\n",
       "      <td>24405.00</td>\n",
       "      <td>29.00</td>\n",
       "      <td>82.00</td>\n",
       "      <td>0.00</td>\n",
       "    </tr>\n",
       "    <tr>\n",
       "      <th>50%</th>\n",
       "      <td>190555.00</td>\n",
       "      <td>36.00</td>\n",
       "      <td>1.00</td>\n",
       "      <td>28.00</td>\n",
       "      <td>0.00</td>\n",
       "      <td>31669.00</td>\n",
       "      <td>133.00</td>\n",
       "      <td>154.00</td>\n",
       "      <td>0.00</td>\n",
       "    </tr>\n",
       "    <tr>\n",
       "      <th>75%</th>\n",
       "      <td>285832.00</td>\n",
       "      <td>49.00</td>\n",
       "      <td>1.00</td>\n",
       "      <td>35.00</td>\n",
       "      <td>1.00</td>\n",
       "      <td>39400.00</td>\n",
       "      <td>152.00</td>\n",
       "      <td>227.00</td>\n",
       "      <td>0.00</td>\n",
       "    </tr>\n",
       "    <tr>\n",
       "      <th>max</th>\n",
       "      <td>381109.00</td>\n",
       "      <td>85.00</td>\n",
       "      <td>1.00</td>\n",
       "      <td>52.00</td>\n",
       "      <td>1.00</td>\n",
       "      <td>540165.00</td>\n",
       "      <td>163.00</td>\n",
       "      <td>299.00</td>\n",
       "      <td>1.00</td>\n",
       "    </tr>\n",
       "  </tbody>\n",
       "</table>\n",
       "</div>"
      ],
      "text/plain": [
       "             id       age  driving_license  region_code  previously_insured  annual_premium  policy_sales_channel   vintage  response\n",
       "count 381109.00 381109.00        381109.00    381109.00           381109.00       381109.00             381109.00 381109.00 381109.00\n",
       "mean  190555.00     38.82             1.00        26.39                0.46        30564.39                112.03    154.35      0.12\n",
       "std   110016.84     15.51             0.05        13.23                0.50        17213.16                 54.20     83.67      0.33\n",
       "min        1.00     20.00             0.00         0.00                0.00         2630.00                  1.00     10.00      0.00\n",
       "25%    95278.00     25.00             1.00        15.00                0.00        24405.00                 29.00     82.00      0.00\n",
       "50%   190555.00     36.00             1.00        28.00                0.00        31669.00                133.00    154.00      0.00\n",
       "75%   285832.00     49.00             1.00        35.00                1.00        39400.00                152.00    227.00      0.00\n",
       "max   381109.00     85.00             1.00        52.00                1.00       540165.00                163.00    299.00      1.00"
      ]
     },
     "execution_count": 11,
     "metadata": {},
     "output_type": "execute_result"
    }
   ],
   "source": [
    "pd.options.display.float_format = '{:.2f}'.format\n",
    "num_attributes.describe()"
   ]
  },
  {
   "cell_type": "code",
   "execution_count": 12,
   "id": "61308144",
   "metadata": {
    "ExecuteTime": {
     "end_time": "2023-05-24T21:23:05.332311Z",
     "start_time": "2023-05-24T21:23:03.430342Z"
    }
   },
   "outputs": [
    {
     "data": {
      "text/html": [
       "<div>\n",
       "<style scoped>\n",
       "    .dataframe tbody tr th:only-of-type {\n",
       "        vertical-align: middle;\n",
       "    }\n",
       "\n",
       "    .dataframe tbody tr th {\n",
       "        vertical-align: top;\n",
       "    }\n",
       "\n",
       "    .dataframe thead th {\n",
       "        text-align: right;\n",
       "    }\n",
       "</style>\n",
       "<table border=\"1\" class=\"dataframe\">\n",
       "  <thead>\n",
       "    <tr style=\"text-align: right;\">\n",
       "      <th></th>\n",
       "      <th>attributes</th>\n",
       "      <th>min</th>\n",
       "      <th>max</th>\n",
       "      <th>range</th>\n",
       "      <th>mean</th>\n",
       "      <th>median</th>\n",
       "      <th>std</th>\n",
       "      <th>skewness</th>\n",
       "      <th>kurtosis</th>\n",
       "    </tr>\n",
       "  </thead>\n",
       "  <tbody>\n",
       "    <tr>\n",
       "      <th>0</th>\n",
       "      <td>id</td>\n",
       "      <td>1.00</td>\n",
       "      <td>381109.00</td>\n",
       "      <td>381108.00</td>\n",
       "      <td>190555.00</td>\n",
       "      <td>190555.00</td>\n",
       "      <td>110016.69</td>\n",
       "      <td>0.00</td>\n",
       "      <td>-1.20</td>\n",
       "    </tr>\n",
       "    <tr>\n",
       "      <th>1</th>\n",
       "      <td>age</td>\n",
       "      <td>20.00</td>\n",
       "      <td>85.00</td>\n",
       "      <td>65.00</td>\n",
       "      <td>38.82</td>\n",
       "      <td>36.00</td>\n",
       "      <td>15.51</td>\n",
       "      <td>0.67</td>\n",
       "      <td>-0.57</td>\n",
       "    </tr>\n",
       "    <tr>\n",
       "      <th>2</th>\n",
       "      <td>driving_license</td>\n",
       "      <td>0.00</td>\n",
       "      <td>1.00</td>\n",
       "      <td>1.00</td>\n",
       "      <td>1.00</td>\n",
       "      <td>1.00</td>\n",
       "      <td>0.05</td>\n",
       "      <td>-21.60</td>\n",
       "      <td>464.35</td>\n",
       "    </tr>\n",
       "    <tr>\n",
       "      <th>3</th>\n",
       "      <td>region_code</td>\n",
       "      <td>0.00</td>\n",
       "      <td>52.00</td>\n",
       "      <td>52.00</td>\n",
       "      <td>26.39</td>\n",
       "      <td>28.00</td>\n",
       "      <td>13.23</td>\n",
       "      <td>-0.12</td>\n",
       "      <td>-0.87</td>\n",
       "    </tr>\n",
       "    <tr>\n",
       "      <th>4</th>\n",
       "      <td>previously_insured</td>\n",
       "      <td>0.00</td>\n",
       "      <td>1.00</td>\n",
       "      <td>1.00</td>\n",
       "      <td>0.46</td>\n",
       "      <td>0.00</td>\n",
       "      <td>0.50</td>\n",
       "      <td>0.17</td>\n",
       "      <td>-1.97</td>\n",
       "    </tr>\n",
       "    <tr>\n",
       "      <th>5</th>\n",
       "      <td>annual_premium</td>\n",
       "      <td>2630.00</td>\n",
       "      <td>540165.00</td>\n",
       "      <td>537535.00</td>\n",
       "      <td>30564.39</td>\n",
       "      <td>31669.00</td>\n",
       "      <td>17213.13</td>\n",
       "      <td>1.77</td>\n",
       "      <td>34.00</td>\n",
       "    </tr>\n",
       "    <tr>\n",
       "      <th>6</th>\n",
       "      <td>policy_sales_channel</td>\n",
       "      <td>1.00</td>\n",
       "      <td>163.00</td>\n",
       "      <td>162.00</td>\n",
       "      <td>112.03</td>\n",
       "      <td>133.00</td>\n",
       "      <td>54.20</td>\n",
       "      <td>-0.90</td>\n",
       "      <td>-0.97</td>\n",
       "    </tr>\n",
       "    <tr>\n",
       "      <th>7</th>\n",
       "      <td>vintage</td>\n",
       "      <td>10.00</td>\n",
       "      <td>299.00</td>\n",
       "      <td>289.00</td>\n",
       "      <td>154.35</td>\n",
       "      <td>154.00</td>\n",
       "      <td>83.67</td>\n",
       "      <td>0.00</td>\n",
       "      <td>-1.20</td>\n",
       "    </tr>\n",
       "    <tr>\n",
       "      <th>8</th>\n",
       "      <td>response</td>\n",
       "      <td>0.00</td>\n",
       "      <td>1.00</td>\n",
       "      <td>1.00</td>\n",
       "      <td>0.12</td>\n",
       "      <td>0.00</td>\n",
       "      <td>0.33</td>\n",
       "      <td>2.30</td>\n",
       "      <td>3.30</td>\n",
       "    </tr>\n",
       "  </tbody>\n",
       "</table>\n",
       "</div>"
      ],
      "text/plain": [
       "             attributes     min       max     range      mean    median       std  skewness  kurtosis\n",
       "0                    id    1.00 381109.00 381108.00 190555.00 190555.00 110016.69      0.00     -1.20\n",
       "1                   age   20.00     85.00     65.00     38.82     36.00     15.51      0.67     -0.57\n",
       "2       driving_license    0.00      1.00      1.00      1.00      1.00      0.05    -21.60    464.35\n",
       "3           region_code    0.00     52.00     52.00     26.39     28.00     13.23     -0.12     -0.87\n",
       "4    previously_insured    0.00      1.00      1.00      0.46      0.00      0.50      0.17     -1.97\n",
       "5        annual_premium 2630.00 540165.00 537535.00  30564.39  31669.00  17213.13      1.77     34.00\n",
       "6  policy_sales_channel    1.00    163.00    162.00    112.03    133.00     54.20     -0.90     -0.97\n",
       "7               vintage   10.00    299.00    289.00    154.35    154.00     83.67      0.00     -1.20\n",
       "8              response    0.00      1.00      1.00      0.12      0.00      0.33      2.30      3.30"
      ]
     },
     "execution_count": 12,
     "metadata": {},
     "output_type": "execute_result"
    }
   ],
   "source": [
    "# Central tendency - mean, median\n",
    "ct1 = pd.DataFrame( num_attributes.apply( np.mean )).T\n",
    "ct2 = pd.DataFrame( num_attributes.apply( np.median )).T\n",
    "\n",
    "# dispersion - std, min, max, range, skewness, kurtosis\n",
    "d1 = pd.DataFrame( num_attributes.apply(np.std)).T\n",
    "d2 = pd.DataFrame( num_attributes.apply(min)).T\n",
    "d3 = pd.DataFrame( num_attributes.apply(max)).T\n",
    "d4 = pd.DataFrame( num_attributes.apply(lambda x: x.max() - x.min())).T\n",
    "d5 = pd.DataFrame( num_attributes.apply(lambda x: x.skew())).T\n",
    "d6 = pd.DataFrame( num_attributes.apply(lambda x: x.kurtosis())).T\n",
    "\n",
    "#concat\n",
    "m = pd.concat( [d2, d3, d4, ct1, ct2, d1, d5, d6] ).T.reset_index()\n",
    "m.columns = ['attributes', 'min', 'max', 'range', 'mean', 'median', 'std', 'skewness', 'kurtosis'] \n",
    "m"
   ]
  },
  {
   "cell_type": "markdown",
   "id": "9e1950ae",
   "metadata": {},
   "source": [
    "# 2. FEATURE ENGINEERING"
   ]
  },
  {
   "cell_type": "code",
   "execution_count": 13,
   "id": "70265c42",
   "metadata": {
    "ExecuteTime": {
     "end_time": "2023-05-24T21:23:05.364313Z",
     "start_time": "2023-05-24T21:23:05.336318Z"
    }
   },
   "outputs": [],
   "source": [
    "df2 = df1.copy()"
   ]
  },
  {
   "cell_type": "code",
   "execution_count": 14,
   "id": "43c462db",
   "metadata": {
    "ExecuteTime": {
     "end_time": "2023-05-24T21:23:05.538372Z",
     "start_time": "2023-05-24T21:23:05.368320Z"
    }
   },
   "outputs": [],
   "source": [
    "# Converte o conteúdo de 'vehicle_age'\n",
    "vehicle_age_rename = {'> 2 Years': 'over_2_years', '1-2 Year': 'between_1_2_years', '< 1 Year': 'below_1_year'}\n",
    "df2['vehicle_age'] = df2['vehicle_age'].map(vehicle_age_rename)\n",
    "\n",
    "# Converte o conteúdo de 'vehicle_damage' em números\n",
    "vehicle_damage_rename = {'No': 0, 'Yes': 1}\n",
    "df2['vehicle_damage'] = df2['vehicle_damage'].map(vehicle_damage_rename)"
   ]
  },
  {
   "cell_type": "markdown",
   "id": "68fa6910",
   "metadata": {},
   "source": [
    "# 3. DATA FILTERING"
   ]
  },
  {
   "cell_type": "code",
   "execution_count": 15,
   "id": "a2757a51",
   "metadata": {
    "ExecuteTime": {
     "end_time": "2023-05-24T21:23:05.649903Z",
     "start_time": "2023-05-24T21:23:05.542372Z"
    }
   },
   "outputs": [],
   "source": [
    "df3 = df2.copy()"
   ]
  },
  {
   "cell_type": "code",
   "execution_count": 16,
   "id": "8be1af8b",
   "metadata": {
    "ExecuteTime": {
     "end_time": "2023-05-24T21:23:05.665897Z",
     "start_time": "2023-05-24T21:23:05.653896Z"
    }
   },
   "outputs": [],
   "source": [
    "# Selecionar apenas pessoas com licença para dirigir\n",
    "# df3 = df2[df2['driving_license'] == 1].reset_index(drop=True)"
   ]
  },
  {
   "cell_type": "markdown",
   "id": "5217f780",
   "metadata": {},
   "source": [
    "# 4. EXPLORATORY DATA ANALYSIS (EDA)"
   ]
  },
  {
   "cell_type": "markdown",
   "id": "d894ee22",
   "metadata": {},
   "source": [
    "Enquanto a correlação é mais relevante em problemas de regressão, em problemas de classificação, o foco principal está na compreensão de como as classes são separadas ou agrupadas dentro do espaço de características.\n",
    "\n",
    "O foco principal em problemas de classificação é entender como as instâncias são separadas ou agrupadas dentro de cada classe. Isso envolve a identificação de padrões, fronteiras de decisão ou hiperplanos que melhor separam as classes no espaço de características.\n",
    "\n",
    "Aqui, vamos entender um pouco das diferenças entre clientes interessados ou não interessados no seguro (response = 1 e response = 0, respectivamente)."
   ]
  },
  {
   "cell_type": "code",
   "execution_count": 17,
   "id": "52e78280",
   "metadata": {
    "ExecuteTime": {
     "end_time": "2023-05-24T21:23:05.712420Z",
     "start_time": "2023-05-24T21:23:05.670898Z"
    }
   },
   "outputs": [],
   "source": [
    "df4 = df3.copy()"
   ]
  },
  {
   "cell_type": "code",
   "execution_count": 18,
   "id": "544bcf3f",
   "metadata": {
    "ExecuteTime": {
     "end_time": "2023-05-24T21:23:05.728425Z",
     "start_time": "2023-05-24T21:23:05.718421Z"
    }
   },
   "outputs": [],
   "source": [
    "num_attributes = df4.select_dtypes( include = ['int64', 'float64'])\n",
    "cat_attributes = df4.select_dtypes( include = ['object'])"
   ]
  },
  {
   "cell_type": "markdown",
   "id": "9727342e",
   "metadata": {},
   "source": [
    "## 4.1. Análise Univariada"
   ]
  },
  {
   "cell_type": "markdown",
   "id": "fd0ceb5a",
   "metadata": {},
   "source": [
    "### 4.1.1. Categorical Attributes"
   ]
  },
  {
   "cell_type": "code",
   "execution_count": 19,
   "id": "335aa06a",
   "metadata": {
    "ExecuteTime": {
     "end_time": "2023-05-24T21:24:04.247960Z",
     "start_time": "2023-05-24T21:23:05.734425Z"
    }
   },
   "outputs": [
    {
     "data": {
      "image/png": "[encoded data removed]",
      "text/plain": [
       "<Figure size 1152x864 with 3 Axes>"
      ]
     },
     "metadata": {},
     "output_type": "display_data"
    }
   ],
   "source": [
    "plt.figure(figsize=(16,12))\n",
    "plt.subplot( 2, 3, 1 )\n",
    "sns.barplot( x='gender', y='response', data=df4 )\n",
    "# sns.despine(offset = 10, trim = True)\n",
    "plt.title('Interessados no seguro por gênero')\n",
    "\n",
    "plt.subplot( 2, 3, 2 )\n",
    "sns.barplot( x='vehicle_age', y='response', data=df4 )\n",
    "sns.despine(offset = 10, trim = True)\n",
    "plt.title('Interessados no seguro pela idade do veículo')\n",
    "\n",
    "plt.subplot( 2, 3, 3 )\n",
    "sns.barplot( x='vehicle_damage', y='response', data=df4 )\n",
    "sns.despine(offset = 10, trim = True)\n",
    "plt.title('Interessados no seguro c/ veíc. danificado ant.');"
   ]
  },
  {
   "cell_type": "markdown",
   "id": "36e663b2",
   "metadata": {},
   "source": [
    "### 4.1.2. Numerical Attributes"
   ]
  },
  {
   "cell_type": "markdown",
   "id": "86b82db3",
   "metadata": {},
   "source": [
    "#### 4.1.2.1. Age"
   ]
  },
  {
   "cell_type": "markdown",
   "id": "32bb4fe1",
   "metadata": {},
   "source": [
    "- Nota-se que há uma diferença visível de comportamento entre interessados e não interessados.\n",
    "- Pessoas mais velhas, entre 35 e 50 anos, tem maior interesse no seguro."
   ]
  },
  {
   "cell_type": "code",
   "execution_count": 20,
   "id": "9032a7b2",
   "metadata": {
    "ExecuteTime": {
     "end_time": "2023-05-24T21:24:08.276912Z",
     "start_time": "2023-05-24T21:24:04.253979Z"
    }
   },
   "outputs": [
    {
     "data": {
      "image/png": "[encoded data removed]",
      "text/plain": [
       "<Figure size 1152x864 with 3 Axes>"
      ]
     },
     "metadata": {},
     "output_type": "display_data"
    }
   ],
   "source": [
    "plt.figure(figsize=(16,12))\n",
    "\n",
    "plt.subplot (2,3,1)\n",
    "sns.boxplot(x='response', y='age', data=df4)\n",
    "plt.title('Distribuição baseada na idade do segurado')\n",
    "sns.despine(trim=True)\n",
    "\n",
    "# Filtrar clientes não interessados, response = 0\n",
    "plt.subplot (2,3,2)\n",
    "df_aux = df4.loc[df4['response'] == 0, 'age']\n",
    "sns.histplot(df_aux)\n",
    "plt.title('Não interessados no seguro pela idade do segurado')\n",
    "sns.despine(trim=True)\n",
    "\n",
    "# Filtrar clientes interessados, response = 1\n",
    "plt.subplot (2,3,3)\n",
    "df_aux = df4.loc[df4['response'] == 1, 'age']\n",
    "sns.histplot(df_aux)\n",
    "plt.title('Interessados no seguro pela idade do segurado');\n",
    "sns.despine(trim=True)"
   ]
  },
  {
   "cell_type": "markdown",
   "id": "5606532f",
   "metadata": {},
   "source": [
    "#### 4.1.2.2. Annual Premium"
   ]
  },
  {
   "cell_type": "markdown",
   "id": "1a8c3ccf",
   "metadata": {},
   "source": [
    "- Aparentemente, pelas medidas de tendência central e dispersão, não muita diferença entre cliente interessados ou não interessados.\n",
    "- Esta pode ser uma feature que não vai ajudar muito na hora de separar em duas classes (talvez ajude combinando com outras)."
   ]
  },
  {
   "cell_type": "code",
   "execution_count": 21,
   "id": "1a63ceec",
   "metadata": {
    "ExecuteTime": {
     "end_time": "2023-05-24T21:24:16.127868Z",
     "start_time": "2023-05-24T21:24:08.280914Z"
    }
   },
   "outputs": [
    {
     "data": {
      "image/png": "[encoded data removed]",
      "text/plain": [
       "<Figure size 1152x864 with 3 Axes>"
      ]
     },
     "metadata": {},
     "output_type": "display_data"
    }
   ],
   "source": [
    "plt.figure(figsize=(16,12))\n",
    "\n",
    "# Filtrar um intervalo para melhor visualização\n",
    "plt.subplot (2,3,1)\n",
    "df_aux = df4[(df4['annual_premium'] > 10000) & (df4['annual_premium'] < 80000)]\n",
    "sns.boxplot( x='response', y='annual_premium', data=df_aux)\n",
    "plt.title('Distribuição baseada no seguro saúde')\n",
    "sns.despine(trim=True)\n",
    "\n",
    "# Filtrar clientes não interessados, response = 0\n",
    "plt.subplot (2,3,2)\n",
    "df_aux0 = df_aux.loc[df_aux['response'] == 0, 'annual_premium']\n",
    "sns.histplot(df_aux0)\n",
    "plt.title('Não interessados pelo valor do seguro saúde')\n",
    "sns.despine(trim=True)\n",
    "\n",
    "# Filtrar clientes interessados, response = 1\n",
    "plt.subplot (2,3,3)\n",
    "df_aux1 = df_aux.loc[df_aux['response'] == 1, 'annual_premium']\n",
    "sns.histplot(df_aux1)\n",
    "plt.title('Interessados pelo valor do seguro saúde');\n",
    "sns.despine(trim=True)"
   ]
  },
  {
   "cell_type": "markdown",
   "id": "591beef2",
   "metadata": {},
   "source": [
    "#### 4.1.2.3 Driving Licence"
   ]
  },
  {
   "cell_type": "markdown",
   "id": "e4981d27",
   "metadata": {},
   "source": [
    "- 12.27% dos clientes que têm licensa para dirigir estão interessados em adquirir um seguro. "
   ]
  },
  {
   "cell_type": "code",
   "execution_count": 22,
   "id": "daf7c859",
   "metadata": {
    "ExecuteTime": {
     "end_time": "2023-05-24T21:24:16.943121Z",
     "start_time": "2023-05-24T21:24:16.132354Z"
    }
   },
   "outputs": [
    {
     "data": {
      "text/html": [
       "<div>\n",
       "<style scoped>\n",
       "    .dataframe tbody tr th:only-of-type {\n",
       "        vertical-align: middle;\n",
       "    }\n",
       "\n",
       "    .dataframe tbody tr th {\n",
       "        vertical-align: top;\n",
       "    }\n",
       "\n",
       "    .dataframe thead th {\n",
       "        text-align: right;\n",
       "    }\n",
       "</style>\n",
       "<table border=\"1\" class=\"dataframe\">\n",
       "  <thead>\n",
       "    <tr style=\"text-align: right;\">\n",
       "      <th></th>\n",
       "      <th>response</th>\n",
       "      <th>driving_license</th>\n",
       "      <th>driving_license_perc</th>\n",
       "    </tr>\n",
       "  </thead>\n",
       "  <tbody>\n",
       "    <tr>\n",
       "      <th>0</th>\n",
       "      <td>0</td>\n",
       "      <td>333628</td>\n",
       "      <td>87.73</td>\n",
       "    </tr>\n",
       "    <tr>\n",
       "      <th>1</th>\n",
       "      <td>1</td>\n",
       "      <td>46669</td>\n",
       "      <td>12.27</td>\n",
       "    </tr>\n",
       "  </tbody>\n",
       "</table>\n",
       "</div>"
      ],
      "text/plain": [
       "   response  driving_license  driving_license_perc\n",
       "0         0           333628                 87.73\n",
       "1         1            46669                 12.27"
      ]
     },
     "execution_count": 22,
     "metadata": {},
     "output_type": "execute_result"
    },
    {
     "data": {
      "image/png": "[encoded data removed]",
      "text/plain": [
       "<Figure size 1800x864 with 1 Axes>"
      ]
     },
     "metadata": {},
     "output_type": "display_data"
    }
   ],
   "source": [
    "# Visualizar a % de clientes que têm licensa para dirigir x interessados em adquirir o seguro (ou não) \n",
    "df_aux = df4[['driving_license', 'response']].groupby( 'response' ).sum().reset_index()\n",
    "df_aux['driving_license_perc'] = (df_aux['driving_license']/df_aux['driving_license'].sum())*100\n",
    "\n",
    "sns.barplot(x='response', y='driving_license', data=df_aux)\n",
    "sns.despine(trim=True)\n",
    "plt.title('Distribuição baseada na licença para dirigir');\n",
    "\n",
    "df_aux.head()"
   ]
  },
  {
   "cell_type": "markdown",
   "id": "6cffad97",
   "metadata": {},
   "source": [
    "#### 4.1.2.4. Region code"
   ]
  },
  {
   "cell_type": "markdown",
   "id": "7b52da9d",
   "metadata": {},
   "source": [
    "- Visualmente, só 1 região se comporta de forma diferente (+- 28);\n",
    "- Esta feature tem indícios que não vai ajudar muito na hora de separar as classes;\n",
    "- Talvez ajude incluir informações de altitude e longitude para encontrar mais informações relevantes sobre a região."
   ]
  },
  {
   "cell_type": "code",
   "execution_count": 23,
   "id": "e248dd3e",
   "metadata": {
    "ExecuteTime": {
     "end_time": "2023-05-24T21:24:18.313752Z",
     "start_time": "2023-05-24T21:24:16.947163Z"
    }
   },
   "outputs": [
    {
     "data": {
      "text/plain": [
       "<Axes: xlabel='region_code', ylabel='id'>"
      ]
     },
     "execution_count": 23,
     "metadata": {},
     "output_type": "execute_result"
    },
    {
     "data": {
      "image/png": "[encoded data removed]",
      "text/plain": [
       "<Figure size 1800x864 with 1 Axes>"
      ]
     },
     "metadata": {},
     "output_type": "display_data"
    }
   ],
   "source": [
    "df_aux = df4[['id', 'region_code', 'response']].groupby(['region_code', 'response']).count().reset_index()\n",
    "sns.scatterplot(x='region_code', y='id', hue='response', data=df_aux)"
   ]
  },
  {
   "cell_type": "markdown",
   "id": "22d83a43",
   "metadata": {},
   "source": [
    "#### 4.1.2.5. Previously Insured"
   ]
  },
  {
   "cell_type": "markdown",
   "id": "05f72ff8",
   "metadata": {},
   "source": [
    "- 22.5% dos clientes que não possuem um seguro de carro estão interessados em adquirir."
   ]
  },
  {
   "cell_type": "code",
   "execution_count": 24,
   "id": "c654a77e",
   "metadata": {
    "ExecuteTime": {
     "end_time": "2023-05-24T21:24:18.468365Z",
     "start_time": "2023-05-24T21:24:18.320805Z"
    }
   },
   "outputs": [
    {
     "data": {
      "text/html": [
       "<div>\n",
       "<style scoped>\n",
       "    .dataframe tbody tr th:only-of-type {\n",
       "        vertical-align: middle;\n",
       "    }\n",
       "\n",
       "    .dataframe tbody tr th {\n",
       "        vertical-align: top;\n",
       "    }\n",
       "\n",
       "    .dataframe thead th {\n",
       "        text-align: right;\n",
       "    }\n",
       "</style>\n",
       "<table border=\"1\" class=\"dataframe\">\n",
       "  <thead>\n",
       "    <tr style=\"text-align: right;\">\n",
       "      <th>response</th>\n",
       "      <th>0</th>\n",
       "      <th>1</th>\n",
       "    </tr>\n",
       "    <tr>\n",
       "      <th>previously_insured</th>\n",
       "      <th></th>\n",
       "      <th></th>\n",
       "    </tr>\n",
       "  </thead>\n",
       "  <tbody>\n",
       "    <tr>\n",
       "      <th>0</th>\n",
       "      <td>77.45</td>\n",
       "      <td>22.55</td>\n",
       "    </tr>\n",
       "    <tr>\n",
       "      <th>1</th>\n",
       "      <td>99.91</td>\n",
       "      <td>0.09</td>\n",
       "    </tr>\n",
       "  </tbody>\n",
       "</table>\n",
       "</div>"
      ],
      "text/plain": [
       "response               0     1\n",
       "previously_insured            \n",
       "0                  77.45 22.55\n",
       "1                  99.91  0.09"
      ]
     },
     "execution_count": 24,
     "metadata": {},
     "output_type": "execute_result"
    }
   ],
   "source": [
    "# Visualizar a % de clientes que já possui um seguro de carro (ou não) x interessados em adquirir (ou não).\n",
    "pd.crosstab(df3['previously_insured'], df4['response']).apply(lambda x: (x/x.sum())*100, axis=1)"
   ]
  },
  {
   "cell_type": "markdown",
   "id": "21736c20",
   "metadata": {},
   "source": [
    "#### 4.1.2.6. Vehicle Age"
   ]
  },
  {
   "cell_type": "markdown",
   "id": "a51f1b2f",
   "metadata": {},
   "source": [
    "- Os clientes com 'vehicle_age' between_1_2_years e below_1_year têm comportamentos muito diferentes dependendo se querem ou não um seguro de carro;\n",
    "- Os clientes com 'vehicle_age' = over_2_years não aparentam uma mudança representativa."
   ]
  },
  {
   "cell_type": "code",
   "execution_count": 25,
   "id": "2b9de5bf",
   "metadata": {
    "ExecuteTime": {
     "end_time": "2023-05-24T21:24:18.655253Z",
     "start_time": "2023-05-24T21:24:18.473362Z"
    }
   },
   "outputs": [
    {
     "data": {
      "text/html": [
       "<div>\n",
       "<style scoped>\n",
       "    .dataframe tbody tr th:only-of-type {\n",
       "        vertical-align: middle;\n",
       "    }\n",
       "\n",
       "    .dataframe tbody tr th {\n",
       "        vertical-align: top;\n",
       "    }\n",
       "\n",
       "    .dataframe thead th {\n",
       "        text-align: right;\n",
       "    }\n",
       "</style>\n",
       "<table border=\"1\" class=\"dataframe\">\n",
       "  <thead>\n",
       "    <tr style=\"text-align: right;\">\n",
       "      <th></th>\n",
       "      <th>vehicle_age</th>\n",
       "      <th>response</th>\n",
       "      <th>%</th>\n",
       "    </tr>\n",
       "  </thead>\n",
       "  <tbody>\n",
       "    <tr>\n",
       "      <th>0</th>\n",
       "      <td>between_1_2_years</td>\n",
       "      <td>0</td>\n",
       "      <td>0.43</td>\n",
       "    </tr>\n",
       "    <tr>\n",
       "      <th>1</th>\n",
       "      <td>below_1_year</td>\n",
       "      <td>0</td>\n",
       "      <td>0.41</td>\n",
       "    </tr>\n",
       "    <tr>\n",
       "      <th>3</th>\n",
       "      <td>over_2_years</td>\n",
       "      <td>0</td>\n",
       "      <td>0.03</td>\n",
       "    </tr>\n",
       "    <tr>\n",
       "      <th>2</th>\n",
       "      <td>between_1_2_years</td>\n",
       "      <td>1</td>\n",
       "      <td>0.09</td>\n",
       "    </tr>\n",
       "    <tr>\n",
       "      <th>4</th>\n",
       "      <td>below_1_year</td>\n",
       "      <td>1</td>\n",
       "      <td>0.02</td>\n",
       "    </tr>\n",
       "    <tr>\n",
       "      <th>5</th>\n",
       "      <td>over_2_years</td>\n",
       "      <td>1</td>\n",
       "      <td>0.01</td>\n",
       "    </tr>\n",
       "  </tbody>\n",
       "</table>\n",
       "</div>"
      ],
      "text/plain": [
       "         vehicle_age  response    %\n",
       "0  between_1_2_years         0 0.43\n",
       "1       below_1_year         0 0.41\n",
       "3       over_2_years         0 0.03\n",
       "2  between_1_2_years         1 0.09\n",
       "4       below_1_year         1 0.02\n",
       "5       over_2_years         1 0.01"
      ]
     },
     "execution_count": 25,
     "metadata": {},
     "output_type": "execute_result"
    }
   ],
   "source": [
    "df4[['vehicle_age', 'response']].value_counts(normalize=True).reset_index().rename(columns= {0: '%'} ).sort_values(['response', '%'], ascending=[True, False])"
   ]
  },
  {
   "cell_type": "markdown",
   "id": "5ffe8951",
   "metadata": {},
   "source": [
    "#### 4.1.2.7. Policy Sales Channel"
   ]
  },
  {
   "cell_type": "code",
   "execution_count": 26,
   "id": "04adc324",
   "metadata": {
    "ExecuteTime": {
     "end_time": "2023-05-24T21:24:23.333459Z",
     "start_time": "2023-05-24T21:24:18.661303Z"
    }
   },
   "outputs": [
    {
     "data": {
      "image/png": "[encoded data removed]",
      "text/plain": [
       "<Figure size 1728x864 with 1 Axes>"
      ]
     },
     "metadata": {},
     "output_type": "display_data"
    }
   ],
   "source": [
    "plt.figure( figsize=(24, 12) )\n",
    "df_aux = df4[['policy_sales_channel', 'response']].groupby('policy_sales_channel').sum().reset_index()\n",
    "sns.barplot(x='response', y='policy_sales_channel', data=df_aux)\n",
    "sns.despine(trim=True)\n",
    "plt.title('Distribuição de interessados baseada no canal de contato', fontsize=20);"
   ]
  },
  {
   "cell_type": "markdown",
   "id": "61180c64",
   "metadata": {},
   "source": [
    "#### 4.1.2.8. Vintage"
   ]
  },
  {
   "cell_type": "markdown",
   "id": "cd150139",
   "metadata": {},
   "source": [
    "- Esta feature tem indícios que não vai ajudar muito na hora de separar as classes;"
   ]
  },
  {
   "cell_type": "code",
   "execution_count": 27,
   "id": "e9d3ee7e",
   "metadata": {
    "ExecuteTime": {
     "end_time": "2023-05-24T21:24:26.418062Z",
     "start_time": "2023-05-24T21:24:23.336972Z"
    }
   },
   "outputs": [
    {
     "data": {
      "image/png": "[encoded data removed]",
      "text/plain": [
       "<Figure size 1152x864 with 3 Axes>"
      ]
     },
     "metadata": {},
     "output_type": "display_data"
    }
   ],
   "source": [
    "plt.figure(figsize=(16,12))\n",
    "\n",
    "plt.subplot (2, 3, 1)\n",
    "sns.boxplot(x='response', y='vintage', data=df4)\n",
    "sns.despine(trim=True)\n",
    "plt.title('Distribuição pela qtd de dias que é cliente')\n",
    "\n",
    "plt.subplot (2, 3, 2)\n",
    "df_aux0 = df4.loc[df4['response'] == 0, 'vintage']\n",
    "sns.histplot(df_aux0)\n",
    "sns.despine(trim=True)\n",
    "plt.title('Não interessados pela qtd de dias que é cliente')\n",
    "\n",
    "plt.subplot (2, 3, 3)\n",
    "df_aux1 = df4.loc[df4['response'] == 1, 'vintage']\n",
    "sns.histplot(df_aux1)\n",
    "sns.despine(trim=True)\n",
    "plt.title('Interessados pela qtd de dias que é cliente');"
   ]
  },
  {
   "cell_type": "markdown",
   "id": "6a33e03b",
   "metadata": {},
   "source": [
    "# 5. DATA PREPARATION"
   ]
  },
  {
   "cell_type": "code",
   "execution_count": 28,
   "id": "0441f514",
   "metadata": {
    "ExecuteTime": {
     "end_time": "2023-05-24T21:24:26.459427Z",
     "start_time": "2023-05-24T21:24:26.430899Z"
    }
   },
   "outputs": [],
   "source": [
    "df5 = df4.copy()"
   ]
  },
  {
   "cell_type": "code",
   "execution_count": 29,
   "id": "ddc2f990",
   "metadata": {
    "ExecuteTime": {
     "end_time": "2023-05-24T21:24:26.511332Z",
     "start_time": "2023-05-24T21:24:26.469063Z"
    }
   },
   "outputs": [
    {
     "data": {
      "text/html": [
       "<div>\n",
       "<style scoped>\n",
       "    .dataframe tbody tr th:only-of-type {\n",
       "        vertical-align: middle;\n",
       "    }\n",
       "\n",
       "    .dataframe tbody tr th {\n",
       "        vertical-align: top;\n",
       "    }\n",
       "\n",
       "    .dataframe thead th {\n",
       "        text-align: right;\n",
       "    }\n",
       "</style>\n",
       "<table border=\"1\" class=\"dataframe\">\n",
       "  <thead>\n",
       "    <tr style=\"text-align: right;\">\n",
       "      <th></th>\n",
       "      <th>id</th>\n",
       "      <th>gender</th>\n",
       "      <th>age</th>\n",
       "      <th>driving_license</th>\n",
       "      <th>region_code</th>\n",
       "      <th>previously_insured</th>\n",
       "      <th>vehicle_age</th>\n",
       "      <th>vehicle_damage</th>\n",
       "      <th>annual_premium</th>\n",
       "      <th>policy_sales_channel</th>\n",
       "      <th>vintage</th>\n",
       "      <th>response</th>\n",
       "    </tr>\n",
       "  </thead>\n",
       "  <tbody>\n",
       "    <tr>\n",
       "      <th>0</th>\n",
       "      <td>1</td>\n",
       "      <td>Male</td>\n",
       "      <td>44</td>\n",
       "      <td>1</td>\n",
       "      <td>28.00</td>\n",
       "      <td>0</td>\n",
       "      <td>over_2_years</td>\n",
       "      <td>1</td>\n",
       "      <td>40454.00</td>\n",
       "      <td>26.00</td>\n",
       "      <td>217</td>\n",
       "      <td>1</td>\n",
       "    </tr>\n",
       "    <tr>\n",
       "      <th>1</th>\n",
       "      <td>2</td>\n",
       "      <td>Male</td>\n",
       "      <td>76</td>\n",
       "      <td>1</td>\n",
       "      <td>3.00</td>\n",
       "      <td>0</td>\n",
       "      <td>between_1_2_years</td>\n",
       "      <td>0</td>\n",
       "      <td>33536.00</td>\n",
       "      <td>26.00</td>\n",
       "      <td>183</td>\n",
       "      <td>0</td>\n",
       "    </tr>\n",
       "    <tr>\n",
       "      <th>2</th>\n",
       "      <td>3</td>\n",
       "      <td>Male</td>\n",
       "      <td>47</td>\n",
       "      <td>1</td>\n",
       "      <td>28.00</td>\n",
       "      <td>0</td>\n",
       "      <td>over_2_years</td>\n",
       "      <td>1</td>\n",
       "      <td>38294.00</td>\n",
       "      <td>26.00</td>\n",
       "      <td>27</td>\n",
       "      <td>1</td>\n",
       "    </tr>\n",
       "    <tr>\n",
       "      <th>3</th>\n",
       "      <td>4</td>\n",
       "      <td>Male</td>\n",
       "      <td>21</td>\n",
       "      <td>1</td>\n",
       "      <td>11.00</td>\n",
       "      <td>1</td>\n",
       "      <td>below_1_year</td>\n",
       "      <td>0</td>\n",
       "      <td>28619.00</td>\n",
       "      <td>152.00</td>\n",
       "      <td>203</td>\n",
       "      <td>0</td>\n",
       "    </tr>\n",
       "    <tr>\n",
       "      <th>4</th>\n",
       "      <td>5</td>\n",
       "      <td>Female</td>\n",
       "      <td>29</td>\n",
       "      <td>1</td>\n",
       "      <td>41.00</td>\n",
       "      <td>1</td>\n",
       "      <td>below_1_year</td>\n",
       "      <td>0</td>\n",
       "      <td>27496.00</td>\n",
       "      <td>152.00</td>\n",
       "      <td>39</td>\n",
       "      <td>0</td>\n",
       "    </tr>\n",
       "  </tbody>\n",
       "</table>\n",
       "</div>"
      ],
      "text/plain": [
       "   id  gender  age  driving_license  region_code  previously_insured        vehicle_age  vehicle_damage  annual_premium  policy_sales_channel  vintage  response\n",
       "0   1    Male   44                1        28.00                   0       over_2_years               1        40454.00                 26.00      217         1\n",
       "1   2    Male   76                1         3.00                   0  between_1_2_years               0        33536.00                 26.00      183         0\n",
       "2   3    Male   47                1        28.00                   0       over_2_years               1        38294.00                 26.00       27         1\n",
       "3   4    Male   21                1        11.00                   1       below_1_year               0        28619.00                152.00      203         0\n",
       "4   5  Female   29                1        41.00                   1       below_1_year               0        27496.00                152.00       39         0"
      ]
     },
     "execution_count": 29,
     "metadata": {},
     "output_type": "execute_result"
    }
   ],
   "source": [
    "df5.head()"
   ]
  },
  {
   "cell_type": "markdown",
   "id": "130891bc",
   "metadata": {},
   "source": [
    "## 5.1. Normalização"
   ]
  },
  {
   "cell_type": "code",
   "execution_count": 31,
   "id": "42a71958",
   "metadata": {
    "ExecuteTime": {
     "end_time": "2023-05-24T21:40:24.777362Z",
     "start_time": "2023-05-24T21:40:24.726487Z"
    }
   },
   "outputs": [],
   "source": [
    "ss = pp.StandardScaler()\n",
    "df5['annual_premium'] = ss.fit_transform(df5[['annual_premium']].values)"
   ]
  },
  {
   "cell_type": "markdown",
   "id": "178d6b72",
   "metadata": {},
   "source": [
    "## 5.2. Rescaling"
   ]
  },
  {
   "cell_type": "code",
   "execution_count": 33,
   "id": "69160507",
   "metadata": {
    "ExecuteTime": {
     "end_time": "2023-05-24T21:43:59.722662Z",
     "start_time": "2023-05-24T21:43:59.589051Z"
    }
   },
   "outputs": [],
   "source": [
    "mms = MinMaxScaler()\n",
    "\n",
    "# age\n",
    "df5['age'] = mms.fit_transform(df5[['age']].values)\n",
    "\n",
    "# vintage\n",
    "df5['vintage'] = mms.fit_transform(df5[['vintage']].values)"
   ]
  },
  {
   "cell_type": "markdown",
   "id": "f5394d34",
   "metadata": {},
   "source": [
    "##  5.3. Encoding"
   ]
  },
  {
   "cell_type": "code",
   "execution_count": null,
   "id": "ddca9747",
   "metadata": {},
   "outputs": [],
   "source": [
    "# region_code - Target Encoding / Frequency Encoding / Weighted Target Encodingg\n",
    "target_encode_region_code = df5.groupby('region_code')['response'].mean()\n",
    "df5.loc[:, 'Region_Code'] = df5['region_code'].map(target_encode_region_code)\n",
    "\n",
    "# vehicle_age - One Hot Encoding / Order Encoding / Frequency Encoding\n",
    "df5 = pd.get_dummies(df5, prefix='vehicle_age', columns=['vehicle_age'])\n",
    "\n",
    "# policy_sales_channel - Target Encoding / Frequency Encoding\n",
    "# Frequência / Total = Peso\n",
    "frequency_encode_policy_sales_channel = df5.groupby('policy_sales_channel').size() / len(df5)\n",
    "df5.loc[:, 'policy_sales_channel'] = df5['policy_sales_channel'].map(frequency_encode_policy_sales_channel)\n",
    "\n",
    "# driving_license\n",
    "# previously_insured\n",
    "# vehicle_damage"
   ]
  }
 ],
 "metadata": {
  "kernelspec": {
   "display_name": "Python 3 (ipykernel)",
   "language": "python",
   "name": "python3"
  },
  "language_info": {
   "codemirror_mode": {
    "name": "ipython",
    "version": 3
   },
   "file_extension": ".py",
   "mimetype": "text/x-python",
   "name": "python",
   "nbconvert_exporter": "python",
   "pygments_lexer": "ipython3",
   "version": "3.9.12"
  }
 },
 "nbformat": 4,
 "nbformat_minor": 5
}
